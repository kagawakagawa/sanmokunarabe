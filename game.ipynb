{
 "cells": [
  {
   "cell_type": "code",
   "execution_count": 1,
   "metadata": {
    "executionInfo": {
     "elapsed": 619,
     "status": "ok",
     "timestamp": 1626956580819,
     "user": {
      "displayName": "天パ",
      "photoUrl": "https://lh3.googleusercontent.com/a-/AOh14GgcJ5QhEN1QkiiHNRKp9yZUn-Oekyjo7_nsFxvaeg=s64",
      "userId": "16910291732707859644"
     },
     "user_tz": -540
    },
    "id": "5-ZKFIiCAe26"
   },
   "outputs": [],
   "source": [
    "# パッケージのインポート\n",
    "import math\n",
    "import random\n",
    "# ゲームの状態\n",
    "class State:\n",
    "  # 初期化\n",
    "  def __init__(self,pieces=None,enemy_pieces=None):\n",
    "    # 石の配置\n",
    "    self.pieces = pieces if pieces != None else [0] * 9\n",
    "    self.enemy_pieces = enemy_pieces if enemy_pieces != None else [0] * 9\n",
    "  \n",
    "  # 石の数の取得\n",
    "  def piece_count(self,pieces):\n",
    "    count = 0\n",
    "    for i in pieces:\n",
    "      if i == 1:\n",
    "        count += 1\n",
    "    return count\n",
    "  # 負けかどうか\n",
    "  def is_lose(self):\n",
    "    # 三並びかどうか\n",
    "    def is_comp(x,y,dx,dy):\n",
    "      for k in range(3):\n",
    "        if y<0 or 2<y or x<0 or 2<x or self.enemy_pieces[x+y*3] == 0:\n",
    "          return False\n",
    "        x,y = x+dx,y+dy\n",
    "      return True\n",
    "    \n",
    "    # 負けかどうか\n",
    "    if is_comp(0,0,1,1) or is_comp(0,2,1,-1):\n",
    "      return True\n",
    "    for i in range(3):\n",
    "      if is_comp(0,i,1,0) or is_comp(i,0,0,1):\n",
    "        return True\n",
    "    return False\n",
    "\n",
    "  # 引き分けかどうか\n",
    "  def is_draw(self):\n",
    "    return self.piece_count(self.pieces) + self.piece_count(self.enemy_pieces) == 9\n",
    "\n",
    "  # ゲーム終了かどうか\n",
    "  def is_done(self):\n",
    "    return self.is_lose() or self.is_draw()\n",
    "\n",
    "  # 次の状態の取得\n",
    "  def next(self,action):\n",
    "    pieces = self.pieces.copy()\n",
    "    pieces[action] = 1\n",
    "    return State(self.enemy_pieces,pieces)\n",
    "  \n",
    "  # 合法手のリストの取得\n",
    "  def legal_actions(self):\n",
    "    actions = []\n",
    "    for i in range(9):\n",
    "      if self.pieces[i] == 0 and self.enemy_pieces[i] == 0:\n",
    "        actions.append(i)\n",
    "    return actions\n",
    "  \n",
    "  # 先手かどうか\n",
    "  def is_first_player(self):\n",
    "    return self.piece_count(self.pieces) == self.piece_count(self.enemy_pieces)\n",
    "\n",
    "  # 文字列表示\n",
    "  def __str__(self):\n",
    "    ox = ('o','x') if self.is_first_player() else ('x','o')\n",
    "    str = ''\n",
    "    for i in range(9):\n",
    "      if self.pieces[i] == 1:\n",
    "        str += ox[0]\n",
    "      elif self.enemy_pieces[i] == 1:\n",
    "        str += ox[1]\n",
    "      else:\n",
    "        str += '-'\n",
    "      if i%3 == 2:\n",
    "        str += '\\n'\n",
    "    return str\n",
    "\n",
    "# ランダムで行動選択\n",
    "def random_action(state):\n",
    "  legal_actions = state.legal_actions()\n",
    "  return legal_actions[random.randint(0,len(legal_actions)-1)]\n",
    "\n",
    "# アルファベータ法で状態価値計算\n",
    "def alpha_beta(state,alpha,beta):\n",
    "  #負けは状態価値 -1\n",
    "  if state.is_lose():\n",
    "    return -1\n",
    "\n",
    "  # 引き分けは状態価値 0\n",
    "  if state.is_draw():\n",
    "    return 0\n",
    "  \n",
    "  # 合法手の状態価値の計算\n",
    "  for action in state.legal_actions():\n",
    "    score = -alpha_beta(state.next(action),-beta,-alpha)\n",
    "    if score > alpha:\n",
    "      alpha = score\n",
    "    \n",
    "    # 現ノードのベストスコアが親ノードを越えたら探索終了\n",
    "    if alpha >= beta:\n",
    "      return alpha\n",
    "  return alpha\n",
    "\n",
    "# アルファベータ法で行動選択\n",
    "def alpha_beta_action(state):\n",
    "  # 合法手の状態価値の計算\n",
    "  best_action = 0\n",
    "  alpha = -float('inf')\n",
    "  str = ['','']\n",
    "  for action in state.legal_actions():\n",
    "    score = -alpha_beta(state.next(action),-float('inf'),-alpha)\n",
    "    if score > alpha:\n",
    "      best_action = action\n",
    "      alpha = score\n",
    "    \n",
    "    str[0] = '{}{:2d}'.format(str[0],action)\n",
    "    str[1] = '{}{:2d}'.format(str[1],score)\n",
    "  print('action:',str[0],'\\nscore: ',str[1],'\\n')\n",
    "  # 合法手の状態価値の最大値を持つ行動を返す\n",
    "  return best_action\n",
    "\n",
    "# プレイアウト\n",
    "def playout(state):\n",
    "  # 負けは状態価値 -1\n",
    "  if state.is_lose():\n",
    "    return -1\n",
    "  \n",
    "  # 引き分けは状態価値 0\n",
    "  if state.is_draw():\n",
    "    return 0\n",
    "\n",
    "  # 次の状態の状態価値\n",
    "  return -playout(state.next(random_action(state)))\n",
    "\n",
    "# 最大値のインデックスを返す\n",
    "def argmax(collection,key=None):\n",
    "  return collection.index(max(collection))\n",
    "\n",
    "# モンテカルロ木探索の行動選択\n",
    "def mcts_action(state):\n",
    "  # モンテカルロ木探索\n",
    "  class Node:\n",
    "    # 初期化\n",
    "    def __init__(self,state):\n",
    "      self.state = state # 状態\n",
    "      self.w = 0 # 累計価値\n",
    "      self.n = 0 # 試行回数\n",
    "      self.child_nodes = None # 子ノード群\n",
    "    def evaluate(self):\n",
    "      # ゲーム終了時\n",
    "      if self.state.is_done():\n",
    "        # 勝敗結果で価値を取得\n",
    "        value = -1 if self.state.is_lose() else 0 # 負けは -1、引き分けは 0\n",
    "\n",
    "        # 累計価値を試行回数の更新\n",
    "        self.w += value\n",
    "        self.n += 1\n",
    "        return value\n",
    "      #子ノードが存在しないとき\n",
    "      if not self.child_nodes:\n",
    "        # プレイアウトで価値を取得\n",
    "        value = playout(self.state)\n",
    "\n",
    "        # 累計価値と試行回数の更新\n",
    "        self.w += value\n",
    "        self.n += 1\n",
    "\n",
    "        # 子ノードの展開\n",
    "        if self.n == 10:\n",
    "          self.expand()\n",
    "        return value\n",
    "      \n",
    "      # 子ノードが存在するとき\n",
    "      else:\n",
    "        # UCB1が最大の子ノードの評価で価値を取得\n",
    "        value = -self.next_child_node().evaluate()\n",
    "\n",
    "        # 累計価値と試行回数の更新\n",
    "        self.w += value\n",
    "        self.n += 1\n",
    "        return value\n",
    "    \n",
    "    # 子ノードの展開\n",
    "    def expand(self):\n",
    "      legal_actions = self.state.legal_actions()\n",
    "      self.child_nodes = []\n",
    "      for action in legal_actions:\n",
    "        self.child_nodes.append(Node(self.state.next(action)))\n",
    "    \n",
    "    # UCB1が最大の子ノードの取得\n",
    "    def next_child_node(self):\n",
    "      # 試行回数が0の子ノードを返す\n",
    "      for child_node in self.child_nodes:\n",
    "        if child_node.n == 0:\n",
    "          return child_node\n",
    "      \n",
    "      # UCB1の計算\n",
    "      t = 0\n",
    "      for c in self.child_nodes:\n",
    "        t += c.n\n",
    "      ucb1_values = []\n",
    "      for child_node in self.child_nodes:  \n",
    "        ucb1_values.append(-child_node.w/child_node.n+(2*math.log(t)/child_node.n)**0.5)\n",
    "\n",
    "      # UCB1が最大の子ノードを返す\n",
    "      return self.child_nodes[argmax(ucb1_values)]\n",
    "\n",
    "\n",
    "  # 現在の局面のノードの作成\n",
    "  root_node = Node(state)\n",
    "  root_node.expand()\n",
    "\n",
    "  # 100回のシミュレーションを実行\n",
    "  for _ in range(100):\n",
    "    root_node.evaluate()\n",
    "\n",
    "  # 試行回数の最大値を持つ行動を返す\n",
    "  legal_actions = state.legal_actions()\n",
    "  n_list = []\n",
    "  for c in root_node.child_nodes:\n",
    "    n_list.append(c.n)\n",
    "  return legal_actions[argmax(n_list)]"
   ]
  },
  {
   "cell_type": "code",
   "execution_count": 2,
   "metadata": {
    "colab": {
     "base_uri": "https://localhost:8080/"
    },
    "executionInfo": {
     "elapsed": 245,
     "status": "ok",
     "timestamp": 1626956588168,
     "user": {
      "displayName": "天パ",
      "photoUrl": "https://lh3.googleusercontent.com/a-/AOh14GgcJ5QhEN1QkiiHNRKp9yZUn-Oekyjo7_nsFxvaeg=s64",
      "userId": "16910291732707859644"
     },
     "user_tz": -540
    },
    "id": "nAEDJPdPBXLs",
    "outputId": "b47d6675-4ccc-41d9-f330-a835557ef767"
   },
   "outputs": [
    {
     "name": "stdout",
     "output_type": "stream",
     "text": [
      "---\n",
      "---\n",
      "--o\n",
      "\n",
      "\n",
      "---\n",
      "x--\n",
      "--o\n",
      "\n",
      "\n",
      "---\n",
      "x--\n",
      "o-o\n",
      "\n",
      "\n",
      "--x\n",
      "x--\n",
      "o-o\n",
      "\n",
      "\n",
      "o-x\n",
      "x--\n",
      "o-o\n",
      "\n",
      "\n",
      "o-x\n",
      "xx-\n",
      "o-o\n",
      "\n",
      "\n",
      "o-x\n",
      "xx-\n",
      "ooo\n",
      "\n",
      "\n"
     ]
    }
   ],
   "source": [
    "# 動作確認\n",
    "if __name__ == '__main__':\n",
    "  # 状態の生成\n",
    "  state = State()\n",
    "\n",
    "  # ゲーム終了までのループ\n",
    "  while True:\n",
    "    # ゲーム終了時\n",
    "    if state.is_done():\n",
    "      break\n",
    "    \n",
    "    # 次の状態の取得\n",
    "    state = state.next(random_action(state))\n",
    "\n",
    "    # 文字列表示\n",
    "    print(state)\n",
    "    print()"
   ]
  },
  {
   "cell_type": "code",
   "execution_count": null,
   "metadata": {
    "colab": {
     "background_save": true,
     "base_uri": "https://localhost:8080/",
     "height": 43,
     "resources": {
      "http://localhost:8080/nbextensions/google.colab/files.js": {
       "data": "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",
       "headers": [
        [
         "content-type",
         "application/javascript"
        ]
       ],
       "ok": true,
       "status": 200,
       "status_text": ""
      }
     }
    },
    "id": "tWeN4fnXN1eu"
   },
   "outputs": [
    {
     "data": {
      "text/html": [
       "\n",
       "     <input type=\"file\" id=\"files-fdc66519-b0c3-47e2-a7fc-f2e603ec96b6\" name=\"files[]\" multiple disabled\n",
       "        style=\"border:none\" />\n",
       "     <output id=\"result-fdc66519-b0c3-47e2-a7fc-f2e603ec96b6\">\n",
       "      Upload widget is only available when the cell has been executed in the\n",
       "      current browser session. Please rerun this cell to enable.\n",
       "      </output>\n",
       "      <script src=\"/nbextensions/google.colab/files.js\"></script> "
      ],
      "text/plain": [
       "<IPython.core.display.HTML object>"
      ]
     },
     "metadata": {},
     "output_type": "display_data"
    },
    {
     "ename": "TypeError",
     "evalue": "ignored",
     "output_type": "error",
     "traceback": [
      "\u001b[0;31m---------------------------------------------------------------------------\u001b[0m",
      "\u001b[0;31mTypeError\u001b[0m                                 Traceback (most recent call last)",
      "\u001b[0;32m<ipython-input-3-21dc3c638f66>\u001b[0m in \u001b[0;36m<module>\u001b[0;34m()\u001b[0m\n\u001b[1;32m      1\u001b[0m \u001b[0;32mfrom\u001b[0m \u001b[0mgoogle\u001b[0m\u001b[0;34m.\u001b[0m\u001b[0mcolab\u001b[0m \u001b[0;32mimport\u001b[0m \u001b[0mfiles\u001b[0m\u001b[0;34m\u001b[0m\u001b[0;34m\u001b[0m\u001b[0m\n\u001b[0;32m----> 2\u001b[0;31m \u001b[0muploaded\u001b[0m \u001b[0;34m=\u001b[0m \u001b[0mfiles\u001b[0m\u001b[0;34m.\u001b[0m\u001b[0mupload\u001b[0m\u001b[0;34m(\u001b[0m\u001b[0;34m)\u001b[0m\u001b[0;34m\u001b[0m\u001b[0;34m\u001b[0m\u001b[0m\n\u001b[0m",
      "\u001b[0;32m/usr/local/lib/python3.7/dist-packages/google/colab/files.py\u001b[0m in \u001b[0;36mupload\u001b[0;34m()\u001b[0m\n\u001b[1;32m     67\u001b[0m   \u001b[0mlocal_filenames\u001b[0m \u001b[0;34m=\u001b[0m \u001b[0mdict\u001b[0m\u001b[0;34m(\u001b[0m\u001b[0;34m)\u001b[0m\u001b[0;34m\u001b[0m\u001b[0;34m\u001b[0m\u001b[0m\n\u001b[1;32m     68\u001b[0m \u001b[0;34m\u001b[0m\u001b[0m\n\u001b[0;32m---> 69\u001b[0;31m   \u001b[0;32mwhile\u001b[0m \u001b[0mresult\u001b[0m\u001b[0;34m[\u001b[0m\u001b[0;34m'action'\u001b[0m\u001b[0;34m]\u001b[0m \u001b[0;34m!=\u001b[0m \u001b[0;34m'complete'\u001b[0m\u001b[0;34m:\u001b[0m\u001b[0;34m\u001b[0m\u001b[0;34m\u001b[0m\u001b[0m\n\u001b[0m\u001b[1;32m     70\u001b[0m     result = _output.eval_js(\n\u001b[1;32m     71\u001b[0m         'google.colab._files._uploadFilesContinue(\"{output_id}\")'.format(\n",
      "\u001b[0;31mTypeError\u001b[0m: 'NoneType' object is not subscriptable"
     ]
    }
   ],
   "source": [
    "from google.colab import files\n",
    "uploaded = files.upload()"
   ]
  },
  {
   "cell_type": "code",
   "execution_count": null,
   "metadata": {
    "colab": {
     "base_uri": "https://localhost:8080/"
    },
    "executionInfo": {
     "elapsed": 744,
     "status": "ok",
     "timestamp": 1615213345773,
     "user": {
      "displayName": "天パ",
      "photoUrl": "https://lh3.googleusercontent.com/a-/AOh14GgcJ5QhEN1QkiiHNRKp9yZUn-Oekyjo7_nsFxvaeg=s64",
      "userId": "16910291732707859644"
     },
     "user_tz": -540
    },
    "id": "_tO_KtNZN6aE",
    "outputId": "e1fb1000-a356-4cfe-87bf-181bf2c80146"
   },
   "outputs": [
    {
     "name": "stdout",
     "output_type": "stream",
     "text": [
      "game.py  sample_data\n"
     ]
    }
   ],
   "source": [
    "!dir"
   ]
  },
  {
   "cell_type": "code",
   "execution_count": null,
   "metadata": {
    "colab": {
     "base_uri": "https://localhost:8080/"
    },
    "executionInfo": {
     "elapsed": 666,
     "status": "ok",
     "timestamp": 1615213358171,
     "user": {
      "displayName": "天パ",
      "photoUrl": "https://lh3.googleusercontent.com/a-/AOh14GgcJ5QhEN1QkiiHNRKp9yZUn-Oekyjo7_nsFxvaeg=s64",
      "userId": "16910291732707859644"
     },
     "user_tz": -540
    },
    "id": "B7yT-6h2N7jl",
    "outputId": "025c7235-b3b0-4bb8-ef8d-6b5396303a7c"
   },
   "outputs": [
    {
     "name": "stdout",
     "output_type": "stream",
     "text": [
      "-o-\n",
      "---\n",
      "---\n",
      "\n",
      "\n",
      "-o-\n",
      "--x\n",
      "---\n",
      "\n",
      "\n",
      "-o-\n",
      "-ox\n",
      "---\n",
      "\n",
      "\n",
      "-o-\n",
      "-ox\n",
      "-x-\n",
      "\n",
      "\n",
      "-o-\n",
      "-ox\n",
      "-xo\n",
      "\n",
      "\n",
      "-o-\n",
      "xox\n",
      "-xo\n",
      "\n",
      "\n",
      "-oo\n",
      "xox\n",
      "-xo\n",
      "\n",
      "\n",
      "-oo\n",
      "xox\n",
      "xxo\n",
      "\n",
      "\n",
      "ooo\n",
      "xox\n",
      "xxo\n",
      "\n",
      "\n"
     ]
    }
   ],
   "source": [
    "!python game.py"
   ]
  }
 ],
 "metadata": {
  "colab": {
   "authorship_tag": "ABX9TyMDyROy79WwhlzGbSdCvOr9",
   "collapsed_sections": [],
   "name": "game.ipynb",
   "version": ""
  },
  "kernelspec": {
   "display_name": "Python 3",
   "name": "python3"
  }
 },
 "nbformat": 4,
 "nbformat_minor": 0
}
