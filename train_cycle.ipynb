{
 "cells": [
  {
   "cell_type": "code",
   "execution_count": 3,
   "metadata": {
    "colab": {
     "base_uri": "https://localhost:8080/"
    },
    "executionInfo": {
     "elapsed": 500,
     "status": "ok",
     "timestamp": 1615409435974,
     "user": {
      "displayName": "天パ",
      "photoUrl": "https://lh3.googleusercontent.com/a-/AOh14GgcJ5QhEN1QkiiHNRKp9yZUn-Oekyjo7_nsFxvaeg=s64",
      "userId": "16910291732707859644"
     },
     "user_tz": -540
    },
    "id": "JUsbM8ahzWBJ",
    "outputId": "945e6d9e-fff8-4547-dfe4-927a232a14f3"
   },
   "outputs": [
    {
     "name": "stdout",
     "output_type": "stream",
     "text": [
      "dual_network.py      game.py\t sample_data   train_network.py\n",
      "evaluate_network.py  pv_mcts.py  self_play.py\n"
     ]
    }
   ],
   "source": [
    "!dir"
   ]
  },
  {
   "cell_type": "code",
   "execution_count": 4,
   "metadata": {
    "executionInfo": {
     "elapsed": 1803,
     "status": "ok",
     "timestamp": 1615409438342,
     "user": {
      "displayName": "天パ",
      "photoUrl": "https://lh3.googleusercontent.com/a-/AOh14GgcJ5QhEN1QkiiHNRKp9yZUn-Oekyjo7_nsFxvaeg=s64",
      "userId": "16910291732707859644"
     },
     "user_tz": -540
    },
    "id": "lDjqPXTFwLUq"
   },
   "outputs": [],
   "source": [
    "from dual_network import dual_network\r\n",
    "from self_play import self_play\r\n",
    "from train_network import train_network\r\n",
    "from evaluate_network import evaluate_network\r\n",
    "#from evaluate_best_player import evaluate_best_player"
   ]
  },
  {
   "cell_type": "code",
   "execution_count": 5,
   "metadata": {
    "executionInfo": {
     "elapsed": 6547,
     "status": "ok",
     "timestamp": 1615409447875,
     "user": {
      "displayName": "天パ",
      "photoUrl": "https://lh3.googleusercontent.com/a-/AOh14GgcJ5QhEN1QkiiHNRKp9yZUn-Oekyjo7_nsFxvaeg=s64",
      "userId": "16910291732707859644"
     },
     "user_tz": -540
    },
    "id": "8ZeNrwIhwRoy"
   },
   "outputs": [],
   "source": [
    "dual_network()"
   ]
  },
  {
   "cell_type": "code",
   "execution_count": 7,
   "metadata": {
    "colab": {
     "base_uri": "https://localhost:8080/",
     "height": 1000
    },
    "executionInfo": {
     "elapsed": 23726471,
     "status": "ok",
     "timestamp": 1615433375273,
     "user": {
      "displayName": "天パ",
      "photoUrl": "https://lh3.googleusercontent.com/a-/AOh14GgcJ5QhEN1QkiiHNRKp9yZUn-Oekyjo7_nsFxvaeg=s64",
      "userId": "16910291732707859644"
     },
     "user_tz": -540
    },
    "id": "RaU2ewFMNq-d",
    "outputId": "587132de-f7ba-4530-aa36-9601a65617b5"
   },
   "outputs": [
    {
     "name": "stdout",
     "output_type": "stream",
     "text": [
      "Train 0 =====================\n",
      "WARNING:tensorflow:No training configuration found in the save file, so the model was *not* compiled. Compile it manually.\n",
      "SelfPlay 500/500\n",
      "WARNING:tensorflow:No training configuration found in the save file, so the model was *not* compiled. Compile it manually.\n",
      "\\eTrain 1/100\\eTrain 2/100\\eTrain 3/100\\eTrain 4/100\\eTrain 5/100\\eTrain 6/100\\eTrain 7/100\\eTrain 8/100\\eTrain 9/100\\eTrain 10/100\\eTrain 11/100\\eTrain 12/100\\eTrain 13/100\\eTrain 14/100\\eTrain 15/100\\eTrain 16/100\\eTrain 17/100\\eTrain 18/100\\eTrain 19/100\\eTrain 20/100\\eTrain 21/100\\eTrain 22/100\\eTrain 23/100\\eTrain 24/100\\eTrain 25/100\\eTrain 26/100\\eTrain 27/100\\eTrain 28/100\\eTrain 29/100\\eTrain 30/100\\eTrain 31/100\\eTrain 32/100\\eTrain 33/100\\eTrain 34/100\\eTrain 35/100\\eTrain 36/100\\eTrain 37/100\\eTrain 38/100\\eTrain 39/100\\eTrain 40/100\\eTrain 41/100\\eTrain 42/100\\eTrain 43/100\\eTrain 44/100\\eTrain 45/100\\eTrain 46/100\\eTrain 47/100\\eTrain 48/100\\eTrain 49/100\\eTrain 50/100\\eTrain 51/100\\eTrain 52/100\\eTrain 53/100\\eTrain 54/100\\eTrain 55/100\\eTrain 56/100\\eTrain 57/100\\eTrain 58/100\\eTrain 59/100\\eTrain 60/100\\eTrain 61/100\\eTrain 62/100\\eTrain 63/100\\eTrain 64/100\\eTrain 65/100\\eTrain 66/100\\eTrain 67/100\\eTrain 68/100\\eTrain 69/100\\eTrain 70/100\\eTrain 71/100\\eTrain 72/100\\eTrain 73/100\\eTrain 74/100\\eTrain 75/100\\eTrain 76/100\\eTrain 77/100\\eTrain 78/100\\eTrain 79/100\\eTrain 80/100\\eTrain 81/100\\eTrain 82/100\\eTrain 83/100\\eTrain 84/100\\eTrain 85/100\\eTrain 86/100\\eTrain 87/100\\eTrain 88/100\\eTrain 89/100\\eTrain 90/100\\eTrain 91/100\\eTrain 92/100\\eTrain 93/100\\eTrain 94/100\\eTrain 95/100\\eTrain 96/100\\eTrain 97/100\\eTrain 98/100\\eTrain 99/100\\eTrain 100/100\n",
      "WARNING:tensorflow:No training configuration found in the save file, so the model was *not* compiled. Compile it manually.\n",
      "Evaluate 10/10\n",
      "AveragePoint 0.8\n",
      "Change BestPlayer\n",
      "Train 1 =====================\n",
      "SelfPlay 500/500\n",
      "\\eTrain 1/100\\eTrain 2/100\\eTrain 3/100\\eTrain 4/100\\eTrain 5/100\\eTrain 6/100\\eTrain 7/100\\eTrain 8/100\\eTrain 9/100\\eTrain 10/100\\eTrain 11/100\\eTrain 12/100\\eTrain 13/100\\eTrain 14/100\\eTrain 15/100\\eTrain 16/100\\eTrain 17/100\\eTrain 18/100\\eTrain 19/100\\eTrain 20/100\\eTrain 21/100\\eTrain 22/100\\eTrain 23/100\\eTrain 24/100\\eTrain 25/100\\eTrain 26/100\\eTrain 27/100\\eTrain 28/100\\eTrain 29/100\\eTrain 30/100\\eTrain 31/100\\eTrain 32/100\\eTrain 33/100\\eTrain 34/100\\eTrain 35/100\\eTrain 36/100\\eTrain 37/100\\eTrain 38/100\\eTrain 39/100\\eTrain 40/100\\eTrain 41/100\\eTrain 42/100\\eTrain 43/100\\eTrain 44/100\\eTrain 45/100\\eTrain 46/100\\eTrain 47/100\\eTrain 48/100\\eTrain 49/100\\eTrain 50/100\\eTrain 51/100\\eTrain 52/100\\eTrain 53/100\\eTrain 54/100\\eTrain 55/100\\eTrain 56/100\\eTrain 57/100\\eTrain 58/100\\eTrain 59/100\\eTrain 60/100\\eTrain 61/100\\eTrain 62/100\\eTrain 63/100\\eTrain 64/100\\eTrain 65/100\\eTrain 66/100\\eTrain 67/100\\eTrain 68/100\\eTrain 69/100\\eTrain 70/100\\eTrain 71/100\\eTrain 72/100\\eTrain 73/100\\eTrain 74/100\\eTrain 75/100\\eTrain 76/100\\eTrain 77/100\\eTrain 78/100\\eTrain 79/100\\eTrain 80/100\\eTrain 81/100\\eTrain 82/100\\eTrain 83/100\\eTrain 84/100\\eTrain 85/100\\eTrain 86/100\\eTrain 87/100\\eTrain 88/100\\eTrain 89/100\\eTrain 90/100\\eTrain 91/100\\eTrain 92/100\\eTrain 93/100\\eTrain 94/100\\eTrain 95/100\\eTrain 96/100\\eTrain 97/100\\eTrain 98/100\\eTrain 99/100\\eTrain 100/100\n",
      "Evaluate 10/10\n",
      "AveragePoint 0.65\n",
      "Change BestPlayer\n",
      "Train 2 =====================\n",
      "SelfPlay 500/500\n",
      "\\eTrain 1/100\\eTrain 2/100\\eTrain 3/100\\eTrain 4/100\\eTrain 5/100\\eTrain 6/100\\eTrain 7/100\\eTrain 8/100\\eTrain 9/100\\eTrain 10/100\\eTrain 11/100\\eTrain 12/100\\eTrain 13/100\\eTrain 14/100\\eTrain 15/100\\eTrain 16/100\\eTrain 17/100\\eTrain 18/100\\eTrain 19/100\\eTrain 20/100\\eTrain 21/100\\eTrain 22/100\\eTrain 23/100\\eTrain 24/100\\eTrain 25/100\\eTrain 26/100\\eTrain 27/100\\eTrain 28/100\\eTrain 29/100\\eTrain 30/100\\eTrain 31/100\\eTrain 32/100\\eTrain 33/100\\eTrain 34/100\\eTrain 35/100\\eTrain 36/100\\eTrain 37/100\\eTrain 38/100\\eTrain 39/100\\eTrain 40/100\\eTrain 41/100\\eTrain 42/100\\eTrain 43/100\\eTrain 44/100\\eTrain 45/100\\eTrain 46/100\\eTrain 47/100\\eTrain 48/100\\eTrain 49/100\\eTrain 50/100\\eTrain 51/100\\eTrain 52/100\\eTrain 53/100\\eTrain 54/100\\eTrain 55/100\\eTrain 56/100\\eTrain 57/100\\eTrain 58/100\\eTrain 59/100\\eTrain 60/100\\eTrain 61/100\\eTrain 62/100\\eTrain 63/100\\eTrain 64/100\\eTrain 65/100\\eTrain 66/100\\eTrain 67/100\\eTrain 68/100\\eTrain 69/100\\eTrain 70/100\\eTrain 71/100\\eTrain 72/100\\eTrain 73/100\\eTrain 74/100\\eTrain 75/100\\eTrain 76/100\\eTrain 77/100\\eTrain 78/100\\eTrain 79/100\\eTrain 80/100\\eTrain 81/100\\eTrain 82/100\\eTrain 83/100\\eTrain 84/100\\eTrain 85/100\\eTrain 86/100\\eTrain 87/100\\eTrain 88/100\\eTrain 89/100\\eTrain 90/100\\eTrain 91/100\\eTrain 92/100\\eTrain 93/100\\eTrain 94/100\\eTrain 95/100\\eTrain 96/100\\eTrain 97/100\\eTrain 98/100\\eTrain 99/100\\eTrain 100/100\n",
      "Evaluate 10/10\n",
      "AveragePoint 0.65\n",
      "Change BestPlayer\n",
      "Train 3 =====================\n",
      "SelfPlay 500/500\n",
      "\\eTrain 1/100\\eTrain 2/100\\eTrain 3/100\\eTrain 4/100\\eTrain 5/100\\eTrain 6/100\\eTrain 7/100\\eTrain 8/100\\eTrain 9/100\\eTrain 10/100\\eTrain 11/100\\eTrain 12/100\\eTrain 13/100\\eTrain 14/100\\eTrain 15/100\\eTrain 16/100\\eTrain 17/100\\eTrain 18/100\\eTrain 19/100\\eTrain 20/100\\eTrain 21/100\\eTrain 22/100\\eTrain 23/100\\eTrain 24/100\\eTrain 25/100\\eTrain 26/100\\eTrain 27/100\\eTrain 28/100\\eTrain 29/100\\eTrain 30/100\\eTrain 31/100\\eTrain 32/100\\eTrain 33/100\\eTrain 34/100\\eTrain 35/100\\eTrain 36/100\\eTrain 37/100\\eTrain 38/100\\eTrain 39/100\\eTrain 40/100\\eTrain 41/100\\eTrain 42/100\\eTrain 43/100\\eTrain 44/100\\eTrain 45/100\\eTrain 46/100\\eTrain 47/100\\eTrain 48/100\\eTrain 49/100\\eTrain 50/100\\eTrain 51/100\\eTrain 52/100\\eTrain 53/100\\eTrain 54/100\\eTrain 55/100\\eTrain 56/100\\eTrain 57/100\\eTrain 58/100\\eTrain 59/100\\eTrain 60/100\\eTrain 61/100\\eTrain 62/100\\eTrain 63/100\\eTrain 64/100\\eTrain 65/100\\eTrain 66/100\\eTrain 67/100\\eTrain 68/100\\eTrain 69/100\\eTrain 70/100\\eTrain 71/100\\eTrain 72/100\\eTrain 73/100\\eTrain 74/100\\eTrain 75/100\\eTrain 76/100\\eTrain 77/100\\eTrain 78/100\\eTrain 79/100\\eTrain 80/100\\eTrain 81/100\\eTrain 82/100\\eTrain 83/100\\eTrain 84/100\\eTrain 85/100\\eTrain 86/100\\eTrain 87/100\\eTrain 88/100\\eTrain 89/100\\eTrain 90/100\\eTrain 91/100\\eTrain 92/100\\eTrain 93/100\\eTrain 94/100\\eTrain 95/100\\eTrain 96/100\\eTrain 97/100\\eTrain 98/100\\eTrain 99/100\\eTrain 100/100\n",
      "Evaluate 10/10\n",
      "AveragePoint 0.45\n",
      "Train 4 =====================\n",
      "SelfPlay 500/500\n",
      "\\eTrain 1/100\\eTrain 2/100\\eTrain 3/100\\eTrain 4/100\\eTrain 5/100\\eTrain 6/100\\eTrain 7/100\\eTrain 8/100\\eTrain 9/100\\eTrain 10/100\\eTrain 11/100\\eTrain 12/100\\eTrain 13/100\\eTrain 14/100\\eTrain 15/100\\eTrain 16/100\\eTrain 17/100\\eTrain 18/100\\eTrain 19/100\\eTrain 20/100\\eTrain 21/100\\eTrain 22/100\\eTrain 23/100\\eTrain 24/100\\eTrain 25/100\\eTrain 26/100\\eTrain 27/100\\eTrain 28/100\\eTrain 29/100\\eTrain 30/100\\eTrain 31/100\\eTrain 32/100\\eTrain 33/100\\eTrain 34/100\\eTrain 35/100\\eTrain 36/100\\eTrain 37/100\\eTrain 38/100\\eTrain 39/100\\eTrain 40/100\\eTrain 41/100\\eTrain 42/100\\eTrain 43/100\\eTrain 44/100\\eTrain 45/100\\eTrain 46/100\\eTrain 47/100\\eTrain 48/100\\eTrain 49/100\\eTrain 50/100\\eTrain 51/100\\eTrain 52/100\\eTrain 53/100\\eTrain 54/100\\eTrain 55/100\\eTrain 56/100\\eTrain 57/100\\eTrain 58/100\\eTrain 59/100\\eTrain 60/100\\eTrain 61/100\\eTrain 62/100\\eTrain 63/100\\eTrain 64/100\\eTrain 65/100\\eTrain 66/100\\eTrain 67/100\\eTrain 68/100\\eTrain 69/100\\eTrain 70/100\\eTrain 71/100\\eTrain 72/100\\eTrain 73/100\\eTrain 74/100\\eTrain 75/100\\eTrain 76/100\\eTrain 77/100\\eTrain 78/100\\eTrain 79/100\\eTrain 80/100\\eTrain 81/100\\eTrain 82/100\\eTrain 83/100\\eTrain 84/100\\eTrain 85/100\\eTrain 86/100\\eTrain 87/100\\eTrain 88/100\\eTrain 89/100\\eTrain 90/100\\eTrain 91/100\\eTrain 92/100\\eTrain 93/100\\eTrain 94/100\\eTrain 95/100\\eTrain 96/100\\eTrain 97/100\\eTrain 98/100\\eTrain 99/100\\eTrain 100/100\n",
      "Evaluate 10/10\n",
      "AveragePoint 0.6\n",
      "Change BestPlayer\n",
      "Train 5 =====================\n",
      "SelfPlay 500/500\n",
      "\\eTrain 1/100\\eTrain 2/100\\eTrain 3/100\\eTrain 4/100\\eTrain 5/100\\eTrain 6/100\\eTrain 7/100\\eTrain 8/100\\eTrain 9/100\\eTrain 10/100\\eTrain 11/100\\eTrain 12/100\\eTrain 13/100\\eTrain 14/100\\eTrain 15/100\\eTrain 16/100\\eTrain 17/100\\eTrain 18/100\\eTrain 19/100\\eTrain 20/100\\eTrain 21/100\\eTrain 22/100\\eTrain 23/100\\eTrain 24/100\\eTrain 25/100\\eTrain 26/100\\eTrain 27/100\\eTrain 28/100\\eTrain 29/100\\eTrain 30/100\\eTrain 31/100\\eTrain 32/100\\eTrain 33/100\\eTrain 34/100\\eTrain 35/100\\eTrain 36/100\\eTrain 37/100\\eTrain 38/100\\eTrain 39/100\\eTrain 40/100\\eTrain 41/100\\eTrain 42/100\\eTrain 43/100\\eTrain 44/100\\eTrain 45/100\\eTrain 46/100\\eTrain 47/100\\eTrain 48/100\\eTrain 49/100\\eTrain 50/100\\eTrain 51/100\\eTrain 52/100\\eTrain 53/100\\eTrain 54/100\\eTrain 55/100\\eTrain 56/100\\eTrain 57/100\\eTrain 58/100\\eTrain 59/100\\eTrain 60/100\\eTrain 61/100\\eTrain 62/100\\eTrain 63/100\\eTrain 64/100\\eTrain 65/100\\eTrain 66/100\\eTrain 67/100\\eTrain 68/100\\eTrain 69/100\\eTrain 70/100\\eTrain 71/100\\eTrain 72/100\\eTrain 73/100\\eTrain 74/100\\eTrain 75/100\\eTrain 76/100\\eTrain 77/100\\eTrain 78/100\\eTrain 79/100\\eTrain 80/100\\eTrain 81/100\\eTrain 82/100\\eTrain 83/100\\eTrain 84/100\\eTrain 85/100\\eTrain 86/100\\eTrain 87/100\\eTrain 88/100\\eTrain 89/100\\eTrain 90/100\\eTrain 91/100\\eTrain 92/100\\eTrain 93/100\\eTrain 94/100\\eTrain 95/100\\eTrain 96/100\\eTrain 97/100\\eTrain 98/100\\eTrain 99/100\\eTrain 100/100\n",
      "Evaluate 10/10\n",
      "AveragePoint 0.45\n",
      "Train 6 =====================\n",
      "SelfPlay 500/500\n",
      "\\eTrain 1/100\\eTrain 2/100\\eTrain 3/100\\eTrain 4/100\\eTrain 5/100\\eTrain 6/100\\eTrain 7/100\\eTrain 8/100\\eTrain 9/100\\eTrain 10/100\\eTrain 11/100\\eTrain 12/100\\eTrain 13/100\\eTrain 14/100\\eTrain 15/100\\eTrain 16/100\\eTrain 17/100\\eTrain 18/100\\eTrain 19/100\\eTrain 20/100\\eTrain 21/100\\eTrain 22/100\\eTrain 23/100\\eTrain 24/100\\eTrain 25/100\\eTrain 26/100\\eTrain 27/100\\eTrain 28/100\\eTrain 29/100\\eTrain 30/100\\eTrain 31/100\\eTrain 32/100\\eTrain 33/100\\eTrain 34/100\\eTrain 35/100\\eTrain 36/100\\eTrain 37/100\\eTrain 38/100\\eTrain 39/100\\eTrain 40/100\\eTrain 41/100\\eTrain 42/100\\eTrain 43/100\\eTrain 44/100\\eTrain 45/100\\eTrain 46/100\\eTrain 47/100\\eTrain 48/100\\eTrain 49/100\\eTrain 50/100\\eTrain 51/100\\eTrain 52/100\\eTrain 53/100\\eTrain 54/100\\eTrain 55/100\\eTrain 56/100\\eTrain 57/100\\eTrain 58/100\\eTrain 59/100\\eTrain 60/100\\eTrain 61/100\\eTrain 62/100\\eTrain 63/100\\eTrain 64/100\\eTrain 65/100\\eTrain 66/100\\eTrain 67/100\\eTrain 68/100\\eTrain 69/100\\eTrain 70/100\\eTrain 71/100\\eTrain 72/100\\eTrain 73/100\\eTrain 74/100\\eTrain 75/100\\eTrain 76/100\\eTrain 77/100\\eTrain 78/100\\eTrain 79/100\\eTrain 80/100\\eTrain 81/100\\eTrain 82/100\\eTrain 83/100\\eTrain 84/100\\eTrain 85/100\\eTrain 86/100\\eTrain 87/100\\eTrain 88/100\\eTrain 89/100\\eTrain 90/100\\eTrain 91/100\\eTrain 92/100\\eTrain 93/100\\eTrain 94/100\\eTrain 95/100\\eTrain 96/100\\eTrain 97/100\\eTrain 98/100\\eTrain 99/100\\eTrain 100/100\n",
      "Evaluate 10/10\n",
      "AveragePoint 0.55\n",
      "Change BestPlayer\n",
      "Train 7 =====================\n",
      "SelfPlay 500/500\n",
      "\\eTrain 1/100\\eTrain 2/100\\eTrain 3/100\\eTrain 4/100\\eTrain 5/100\\eTrain 6/100\\eTrain 7/100\\eTrain 8/100\\eTrain 9/100\\eTrain 10/100\\eTrain 11/100\\eTrain 12/100\\eTrain 13/100\\eTrain 14/100\\eTrain 15/100\\eTrain 16/100\\eTrain 17/100\\eTrain 18/100\\eTrain 19/100\\eTrain 20/100\\eTrain 21/100\\eTrain 22/100\\eTrain 23/100\\eTrain 24/100\\eTrain 25/100\\eTrain 26/100\\eTrain 27/100\\eTrain 28/100\\eTrain 29/100\\eTrain 30/100\\eTrain 31/100\\eTrain 32/100\\eTrain 33/100\\eTrain 34/100\\eTrain 35/100\\eTrain 36/100\\eTrain 37/100\\eTrain 38/100\\eTrain 39/100\\eTrain 40/100\\eTrain 41/100\\eTrain 42/100\\eTrain 43/100\\eTrain 44/100\\eTrain 45/100\\eTrain 46/100\\eTrain 47/100\\eTrain 48/100\\eTrain 49/100\\eTrain 50/100\\eTrain 51/100\\eTrain 52/100\\eTrain 53/100\\eTrain 54/100\\eTrain 55/100\\eTrain 56/100\\eTrain 57/100\\eTrain 58/100\\eTrain 59/100\\eTrain 60/100\\eTrain 61/100\\eTrain 62/100\\eTrain 63/100\\eTrain 64/100\\eTrain 65/100\\eTrain 66/100\\eTrain 67/100\\eTrain 68/100\\eTrain 69/100\\eTrain 70/100\\eTrain 71/100\\eTrain 72/100\\eTrain 73/100\\eTrain 74/100\\eTrain 75/100\\eTrain 76/100\\eTrain 77/100\\eTrain 78/100\\eTrain 79/100\\eTrain 80/100\\eTrain 81/100\\eTrain 82/100\\eTrain 83/100\\eTrain 84/100\\eTrain 85/100\\eTrain 86/100\\eTrain 87/100\\eTrain 88/100\\eTrain 89/100\\eTrain 90/100\\eTrain 91/100\\eTrain 92/100\\eTrain 93/100\\eTrain 94/100\\eTrain 95/100\\eTrain 96/100\\eTrain 97/100\\eTrain 98/100\\eTrain 99/100\\eTrain 100/100\n",
      "Evaluate 10/10\n",
      "AveragePoint 0.55\n",
      "Change BestPlayer\n",
      "Train 8 =====================\n",
      "SelfPlay 500/500\n",
      "\\eTrain 1/100\\eTrain 2/100\\eTrain 3/100\\eTrain 4/100\\eTrain 5/100\\eTrain 6/100\\eTrain 7/100\\eTrain 8/100\\eTrain 9/100\\eTrain 10/100\\eTrain 11/100\\eTrain 12/100\\eTrain 13/100\\eTrain 14/100\\eTrain 15/100\\eTrain 16/100\\eTrain 17/100\\eTrain 18/100\\eTrain 19/100\\eTrain 20/100\\eTrain 21/100\\eTrain 22/100\\eTrain 23/100\\eTrain 24/100\\eTrain 25/100\\eTrain 26/100\\eTrain 27/100\\eTrain 28/100\\eTrain 29/100\\eTrain 30/100\\eTrain 31/100\\eTrain 32/100\\eTrain 33/100\\eTrain 34/100\\eTrain 35/100\\eTrain 36/100\\eTrain 37/100\\eTrain 38/100\\eTrain 39/100\\eTrain 40/100\\eTrain 41/100\\eTrain 42/100\\eTrain 43/100\\eTrain 44/100\\eTrain 45/100\\eTrain 46/100\\eTrain 47/100\\eTrain 48/100\\eTrain 49/100\\eTrain 50/100\\eTrain 51/100\\eTrain 52/100\\eTrain 53/100\\eTrain 54/100\\eTrain 55/100\\eTrain 56/100\\eTrain 57/100\\eTrain 58/100\\eTrain 59/100\\eTrain 60/100\\eTrain 61/100\\eTrain 62/100\\eTrain 63/100\\eTrain 64/100\\eTrain 65/100\\eTrain 66/100\\eTrain 67/100\\eTrain 68/100\\eTrain 69/100\\eTrain 70/100\\eTrain 71/100\\eTrain 72/100\\eTrain 73/100\\eTrain 74/100\\eTrain 75/100\\eTrain 76/100\\eTrain 77/100\\eTrain 78/100\\eTrain 79/100\\eTrain 80/100\\eTrain 81/100\\eTrain 82/100\\eTrain 83/100\\eTrain 84/100\\eTrain 85/100\\eTrain 86/100\\eTrain 87/100\\eTrain 88/100\\eTrain 89/100\\eTrain 90/100\\eTrain 91/100\\eTrain 92/100\\eTrain 93/100\\eTrain 94/100\\eTrain 95/100\\eTrain 96/100\\eTrain 97/100\\eTrain 98/100\\eTrain 99/100\\eTrain 100/100\n",
      "Evaluate 10/10\n",
      "AveragePoint 0.5\n",
      "Train 9 =====================\n",
      "SelfPlay 500/500\n",
      "\\eTrain 1/100\\eTrain 2/100\\eTrain 3/100\\eTrain 4/100\\eTrain 5/100\\eTrain 6/100\\eTrain 7/100\\eTrain 8/100\\eTrain 9/100\\eTrain 10/100\\eTrain 11/100\\eTrain 12/100\\eTrain 13/100\\eTrain 14/100\\eTrain 15/100\\eTrain 16/100\\eTrain 17/100\\eTrain 18/100\\eTrain 19/100\\eTrain 20/100\\eTrain 21/100\\eTrain 22/100\\eTrain 23/100\\eTrain 24/100\\eTrain 25/100\\eTrain 26/100\\eTrain 27/100\\eTrain 28/100\\eTrain 29/100\\eTrain 30/100\\eTrain 31/100\\eTrain 32/100\\eTrain 33/100\\eTrain 34/100\\eTrain 35/100\\eTrain 36/100\\eTrain 37/100\\eTrain 38/100\\eTrain 39/100\\eTrain 40/100\\eTrain 41/100\\eTrain 42/100\\eTrain 43/100\\eTrain 44/100\\eTrain 45/100\\eTrain 46/100\\eTrain 47/100\\eTrain 48/100\\eTrain 49/100\\eTrain 50/100\\eTrain 51/100\\eTrain 52/100\\eTrain 53/100\\eTrain 54/100\\eTrain 55/100\\eTrain 56/100\\eTrain 57/100\\eTrain 58/100\\eTrain 59/100\\eTrain 60/100\\eTrain 61/100\\eTrain 62/100\\eTrain 63/100\\eTrain 64/100\\eTrain 65/100\\eTrain 66/100\\eTrain 67/100\\eTrain 68/100\\eTrain 69/100\\eTrain 70/100\\eTrain 71/100\\eTrain 72/100\\eTrain 73/100\\eTrain 74/100\\eTrain 75/100\\eTrain 76/100\\eTrain 77/100\\eTrain 78/100\\eTrain 79/100\\eTrain 80/100\\eTrain 81/100\\eTrain 82/100\\eTrain 83/100\\eTrain 84/100\\eTrain 85/100\\eTrain 86/100\\eTrain 87/100\\eTrain 88/100\\eTrain 89/100\\eTrain 90/100\\eTrain 91/100\\eTrain 92/100\\eTrain 93/100\\eTrain 94/100\\eTrain 95/100\\eTrain 96/100\\eTrain 97/100\\eTrain 98/100\\eTrain 99/100\\eTrain 100/100\n",
      "Evaluate 10/10\n",
      "AveragePoint 0.4\n"
     ]
    },
    {
     "data": {
      "application/javascript": [
       "\n",
       "    async function download(id, filename, size) {\n",
       "      if (!google.colab.kernel.accessAllowed) {\n",
       "        return;\n",
       "      }\n",
       "      const div = document.createElement('div');\n",
       "      const label = document.createElement('label');\n",
       "      label.textContent = `Downloading \"${filename}\": `;\n",
       "      div.appendChild(label);\n",
       "      const progress = document.createElement('progress');\n",
       "      progress.max = size;\n",
       "      div.appendChild(progress);\n",
       "      document.body.appendChild(div);\n",
       "\n",
       "      const buffers = [];\n",
       "      let downloaded = 0;\n",
       "\n",
       "      const channel = await google.colab.kernel.comms.open(id);\n",
       "      // Send a message to notify the kernel that we're ready.\n",
       "      channel.send({})\n",
       "\n",
       "      for await (const message of channel.messages) {\n",
       "        // Send a message to notify the kernel that we're ready.\n",
       "        channel.send({})\n",
       "        if (message.buffers) {\n",
       "          for (const buffer of message.buffers) {\n",
       "            buffers.push(buffer);\n",
       "            downloaded += buffer.byteLength;\n",
       "            progress.value = downloaded;\n",
       "          }\n",
       "        }\n",
       "      }\n",
       "      const blob = new Blob(buffers, {type: 'application/binary'});\n",
       "      const a = document.createElement('a');\n",
       "      a.href = window.URL.createObjectURL(blob);\n",
       "      a.download = filename;\n",
       "      div.appendChild(a);\n",
       "      a.click();\n",
       "      div.remove();\n",
       "    }\n",
       "  "
      ],
      "text/plain": [
       "<IPython.core.display.Javascript object>"
      ]
     },
     "metadata": {
      "tags": []
     },
     "output_type": "display_data"
    },
    {
     "data": {
      "application/javascript": [
       "download(\"download_d5fd2fdd-ab94-4c8a-94e3-993dff3719e4\", \"best.h5\", 57374048)"
      ],
      "text/plain": [
       "<IPython.core.display.Javascript object>"
      ]
     },
     "metadata": {
      "tags": []
     },
     "output_type": "display_data"
    }
   ],
   "source": [
    "for i in range(10):\r\n",
    "  print('Train',i,'=====================')\r\n",
    "\r\n",
    "  self_play()\r\n",
    "\r\n",
    "  train_network()\r\n",
    "\r\n",
    "  update_best_player = evaluate_network()\r\n",
    "\r\n",
    "from google.colab import files\r\n",
    "files.download('./model/best.h5')"
   ]
  }
 ],
 "metadata": {
  "accelerator": "GPU",
  "colab": {
   "authorship_tag": "ABX9TyPamrJA2c5NyGV2ESR5SiqC",
   "collapsed_sections": [],
   "name": "train_cycle.ipynb",
   "provenance": []
  },
  "kernelspec": {
   "display_name": "Python 3",
   "name": "python3"
  }
 },
 "nbformat": 4,
 "nbformat_minor": 0
}
