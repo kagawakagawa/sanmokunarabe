{
 "cells": [
  {
   "cell_type": "code",
   "execution_count": null,
   "metadata": {
    "id": "VH6qObmyE113"
   },
   "outputs": [],
   "source": [
    "\n",
    "from tensorflow.keras.layers import Activation,Add,BatchNormalization,Conv2D,Dense,GlobalAveragePooling2D,Input\n",
    "from tensorflow.keras.models import Model\n",
    "from tensorflow.keras.regularizers import l2\n",
    "from tensorflow.keras import backend as K\n",
    "import os"
   ]
  },
  {
   "cell_type": "code",
   "execution_count": null,
   "metadata": {
    "id": "dj0UuVQWMiHi"
   },
   "outputs": [],
   "source": [
    "DN_FILTERS = 128 # 畳み込み層のカーネル数（本家は256）\n",
    "DN_RESIDUAL_NUM = 16 # 残差ブロックの数（本家は19）\n",
    "DN_INPUT_SHAPE = (3,3,2) # 入力シェイプ\n",
    "DN_OUTPUT_SIZE = 9 # 行動数（配置先(3*3))"
   ]
  },
  {
   "cell_type": "code",
   "execution_count": null,
   "metadata": {
    "id": "LQhaeUpkO6V6"
   },
   "outputs": [],
   "source": [
    "def conv(filters):\n",
    "  return Conv2D(filters,3,padding='same',use_bias=False,kernel_initializer='he_normal',kernel_regularizer=l2(0.0005))"
   ]
  },
  {
   "cell_type": "code",
   "execution_count": null,
   "metadata": {
    "id": "ARjrBxnJPayw"
   },
   "outputs": [],
   "source": [
    "# 残差ブロックの作成\n",
    "def residual_block():\n",
    "  def f(x):\n",
    "    sc = x\n",
    "    x = conv(DN_FILTERS)(x)\n",
    "    x = BatchNormalization()(x)\n",
    "    x = Activation('relu')(x)\n",
    "    x = conv(DN_FILTERS)(x)\n",
    "    x = BatchNormalization()(x)\n",
    "    x = Add()([x,sc])\n",
    "    x = Activation('relu')(x)\n",
    "    return x\n",
    "  return f"
   ]
  },
  {
   "cell_type": "code",
   "execution_count": null,
   "metadata": {
    "id": "wQ1I6_GFUce5"
   },
   "outputs": [],
   "source": [
    "# デュアルネットワークの作成\n",
    "def dual_network():\n",
    "  if os.path.exists('./model/best.h5'):\n",
    "    return\n",
    "\n",
    "  # 入力層\n",
    "  input = Input(shape=DN_INPUT_SHAPE)\n",
    "\n",
    "  # 畳み込み層\n",
    "  x = conv(DN_FILTERS)(input)\n",
    "  x = BatchNormalization()(x)\n",
    "  x = Activation('relu')(x)\n",
    "\n",
    "  # 残差ブロック×16\n",
    "  for i in range(DN_RESIDUAL_NUM):\n",
    "    x = residual_block()(x)\n",
    "  \n",
    "  #　プーリング層\n",
    "  x = GlobalAveragePooling2D()(x)\n",
    "\n",
    "  # ポリシー出力\n",
    "  p = Dense(DN_OUTPUT_SIZE,kernel_regularizer=l2(0.0005),activation='softmax',name='pi')(x)\n",
    "\n",
    "  # バリュー出力\n",
    "  v = Dense(1,kernel_regularizer=l2(0.0005))(x)\n",
    "  v = Activation('tanh',name='v')(v)\n",
    "\n",
    "  # モデルの作成\n",
    "  model = Model(inputs=input, outputs=[p,v])\n",
    "\n",
    "  # モデルの保存\n",
    "  os.makedirs('./model/',exist_ok=True) # フォルダがない時は生成\n",
    "  model.save('./model/best.h5') # ベストプレイヤーのモデル\n",
    "\n",
    "  # モデルの破棄\n",
    "  K.clear_session()\n",
    "  del model"
   ]
  },
  {
   "cell_type": "code",
   "execution_count": null,
   "metadata": {
    "id": "ipeKEKr6YSsZ"
   },
   "outputs": [],
   "source": [
    "# 動作確認\n",
    "if __name__ == '__main__':\n",
    "  dual_network()"
   ]
  }
 ],
 "metadata": {
  "accelerator": "GPU",
  "colab": {
   "authorship_tag": "ABX9TyNv3+scMFPtsfGgiMurnweW",
   "collapsed_sections": [],
   "name": "dual_network.ipynb",
   "provenance": []
  },
  "kernelspec": {
   "display_name": "Python 3 (ipykernel)",
   "language": "python",
   "name": "python3"
  },
  "language_info": {
   "codemirror_mode": {
    "name": "ipython",
    "version": 3
   },
   "file_extension": ".py",
   "mimetype": "text/x-python",
   "name": "python",
   "nbconvert_exporter": "python",
   "pygments_lexer": "ipython3",
   "version": "3.9.12"
  }
 },
 "nbformat": 4,
 "nbformat_minor": 1
}
