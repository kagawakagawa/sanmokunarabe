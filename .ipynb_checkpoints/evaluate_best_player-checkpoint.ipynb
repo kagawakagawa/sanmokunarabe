{
 "cells": [
  {
   "cell_type": "code",
   "execution_count": 6,
   "metadata": {
    "executionInfo": {
     "elapsed": 431,
     "status": "ok",
     "timestamp": 1615478014481,
     "user": {
      "displayName": "天パ",
      "photoUrl": "https://lh3.googleusercontent.com/a-/AOh14GgcJ5QhEN1QkiiHNRKp9yZUn-Oekyjo7_nsFxvaeg=s64",
      "userId": "16910291732707859644"
     },
     "user_tz": -540
    },
    "id": "G8SitpMu92_f"
   },
   "outputs": [],
   "source": [
    "from game import State,random_action,alpha_beta_action,mcts_action\r\n",
    "from pv_mcts import pv_mcts_action\r\n",
    "from tensorflow.keras.models import load_model\r\n",
    "from tensorflow.keras import backend as K\r\n",
    "from pathlib import Path\r\n",
    "import numpy as np"
   ]
  },
  {
   "cell_type": "code",
   "execution_count": 7,
   "metadata": {
    "executionInfo": {
     "elapsed": 541,
     "status": "ok",
     "timestamp": 1615478089565,
     "user": {
      "displayName": "天パ",
      "photoUrl": "https://lh3.googleusercontent.com/a-/AOh14GgcJ5QhEN1QkiiHNRKp9yZUn-Oekyjo7_nsFxvaeg=s64",
      "userId": "16910291732707859644"
     },
     "user_tz": -540
    },
    "id": "Dv17Vygm_j_A"
   },
   "outputs": [],
   "source": [
    "EP_GAME_COUNT = 10"
   ]
  },
  {
   "cell_type": "code",
   "execution_count": 24,
   "metadata": {
    "executionInfo": {
     "elapsed": 502,
     "status": "ok",
     "timestamp": 1615479554187,
     "user": {
      "displayName": "天パ",
      "photoUrl": "https://lh3.googleusercontent.com/a-/AOh14GgcJ5QhEN1QkiiHNRKp9yZUn-Oekyjo7_nsFxvaeg=s64",
      "userId": "16910291732707859644"
     },
     "user_tz": -540
    },
    "id": "rFZ0PYak_2TJ"
   },
   "outputs": [],
   "source": [
    "def first_player_point(ended_state):\r\n",
    "  if ended_state.is_lose():\r\n",
    "    return 0 if ended_state.is_first_player() else 1\r\n",
    "  return 0.5\r\n",
    "\r\n",
    "def play(next_actions):\r\n",
    "  state = State()\r\n",
    "\r\n",
    "  while True:\r\n",
    "  # ゲーム終了時\r\n",
    "    if state.is_done():\r\n",
    "      break\r\n",
    "  \r\n",
    "  # 行動の取得\r\n",
    "    next_action = next_actions[0] if state.is_first_player() else next_actions[1]\r\n",
    "    action = next_action(state)\r\n",
    "  \r\n",
    "  # 次の状態の取得\r\n",
    "    state = state.next(action)\r\n",
    "\r\n",
    "  return first_player_point(state)"
   ]
  },
  {
   "cell_type": "code",
   "execution_count": 28,
   "metadata": {
    "executionInfo": {
     "elapsed": 670,
     "status": "ok",
     "timestamp": 1615479631263,
     "user": {
      "displayName": "天パ",
      "photoUrl": "https://lh3.googleusercontent.com/a-/AOh14GgcJ5QhEN1QkiiHNRKp9yZUn-Oekyjo7_nsFxvaeg=s64",
      "userId": "16910291732707859644"
     },
     "user_tz": -540
    },
    "id": "XrPyqQGTBxUn"
   },
   "outputs": [],
   "source": [
    "def evaluate_algorithm_of(label,next_actions):\r\n",
    "  total_point = 0\r\n",
    "  for i in range(EP_GAME_COUNT):\r\n",
    "    if i%2 == 0:\r\n",
    "      total_point += play(next_actions)\r\n",
    "\r\n",
    "    else:\r\n",
    "      total_point += 1-play(list(reversed(next_actions)))\r\n",
    "\r\n",
    "    print('\\rEvaluate {}/{}'.format(i+1,EP_GAME_COUNT),end='')\r\n",
    "  print('')\r\n",
    "\r\n",
    "  average_point = total_point/EP_GAME_COUNT\r\n",
    "  print(label,average_point)"
   ]
  },
  {
   "cell_type": "code",
   "execution_count": 38,
   "metadata": {
    "executionInfo": {
     "elapsed": 599,
     "status": "ok",
     "timestamp": 1615481622372,
     "user": {
      "displayName": "天パ",
      "photoUrl": "https://lh3.googleusercontent.com/a-/AOh14GgcJ5QhEN1QkiiHNRKp9yZUn-Oekyjo7_nsFxvaeg=s64",
      "userId": "16910291732707859644"
     },
     "user_tz": -540
    },
    "id": "jhW1FxqGCsW-"
   },
   "outputs": [],
   "source": [
    "def evaluate_best_player():\r\n",
    "  model = load_model('best.h5')\r\n",
    "\r\n",
    "  next_pv_mcts_action = pv_mcts_action(model,0.0)\r\n",
    "  \r\n",
    "\r\n",
    "  next_actions = (next_pv_mcts_action,random_action)\r\n",
    "  evaluate_algorithm_of('VS_Random',next_actions)\r\n",
    "\r\n",
    "  next_actions = (next_pv_mcts_action,alpha_beta_action)\r\n",
    "  evaluate_algorithm_of('VS_AlphaBeta',next_actions)\r\n",
    "\r\n",
    "  #next_actions = (next_pv_mcts_action,mcts_action)\r\n",
    "  #evaluate_algorithm_of('VS_MCTS',next_actions)\r\n",
    "\r\n",
    "  K.clear_session()\r\n",
    "  del model"
   ]
  },
  {
   "cell_type": "code",
   "execution_count": 39,
   "metadata": {
    "colab": {
     "base_uri": "https://localhost:8080/"
    },
    "executionInfo": {
     "elapsed": 56991,
     "status": "ok",
     "timestamp": 1615481681800,
     "user": {
      "displayName": "天パ",
      "photoUrl": "https://lh3.googleusercontent.com/a-/AOh14GgcJ5QhEN1QkiiHNRKp9yZUn-Oekyjo7_nsFxvaeg=s64",
      "userId": "16910291732707859644"
     },
     "user_tz": -540
    },
    "id": "oQApYalnDvDx",
    "outputId": "865b547c-5875-40dd-92cd-ce52dd8881f5"
   },
   "outputs": [
    {
     "name": "stdout",
     "output_type": "stream",
     "text": [
      "Evaluate 10/10\n",
      "VS_Random 0.85\n",
      "action:  1 2 3 4 5 6 7 8 \n",
      "score:  -1-1-1 0 0 0 0 0 \n",
      "\n",
      "action:  1 3 5 6 7 8 \n",
      "score:   0-1-1-1-1-1 \n",
      "\n",
      "action:  3 5 6 8 \n",
      "score:   0 0 0 0 \n",
      "\n",
      "action:  6 8 \n",
      "score:  -1 0 \n",
      "\n",
      "Evaluate 1/10action:  0 1 2 3 4 5 6 7 8 \n",
      "score:   0 0 0 0 0 0 0 0 0 \n",
      "\n",
      "action:  1 2 3 5 6 7 8 \n",
      "score:   0 0 0 0 0 0 0 \n",
      "\n",
      "action:  3 5 6 7 8 \n",
      "score:  -1-1 0 0 0 \n",
      "\n",
      "action:  5 7 8 \n",
      "score:   0-1-1 \n",
      "\n",
      "action:  7 \n",
      "score:   0 \n",
      "\n",
      "Evaluate 2/10action:  1 2 3 4 5 6 7 8 \n",
      "score:  -1-1-1 0 0 0 0 0 \n",
      "\n",
      "action:  1 3 5 6 7 8 \n",
      "score:   0-1-1-1-1-1 \n",
      "\n",
      "action:  3 5 6 8 \n",
      "score:   0 0 0 0 \n",
      "\n",
      "action:  6 8 \n",
      "score:  -1 0 \n",
      "\n",
      "Evaluate 3/10action:  0 1 2 3 4 5 6 7 8 \n",
      "score:   0 0 0 0 0 0 0 0 0 \n",
      "\n",
      "action:  1 2 3 5 6 7 8 \n",
      "score:   0 0 0 0 0 0 0 \n",
      "\n",
      "action:  3 5 6 7 8 \n",
      "score:  -1-1 0 0 0 \n",
      "\n",
      "action:  5 7 8 \n",
      "score:   0-1-1 \n",
      "\n",
      "action:  7 \n",
      "score:   0 \n",
      "\n",
      "Evaluate 4/10action:  1 2 3 4 5 6 7 8 \n",
      "score:  -1-1-1 0 0 0 0 0 \n",
      "\n",
      "action:  1 3 5 6 7 8 \n",
      "score:   0-1-1-1-1-1 \n",
      "\n",
      "action:  3 5 6 8 \n",
      "score:   0 0 0 0 \n",
      "\n",
      "action:  6 8 \n",
      "score:  -1 0 \n",
      "\n",
      "Evaluate 5/10action:  0 1 2 3 4 5 6 7 8 \n",
      "score:   0 0 0 0 0 0 0 0 0 \n",
      "\n",
      "action:  1 2 3 5 6 7 8 \n",
      "score:   0 0 0 0 0 0 0 \n",
      "\n",
      "action:  3 5 6 7 8 \n",
      "score:  -1-1 0 0 0 \n",
      "\n",
      "action:  5 7 8 \n",
      "score:   0-1-1 \n",
      "\n",
      "action:  7 \n",
      "score:   0 \n",
      "\n",
      "Evaluate 6/10action:  1 2 3 4 5 6 7 8 \n",
      "score:  -1-1-1 0 0 0 0 0 \n",
      "\n",
      "action:  1 3 5 6 7 8 \n",
      "score:   0-1-1-1-1-1 \n",
      "\n",
      "action:  3 5 6 8 \n",
      "score:   0 0 0 0 \n",
      "\n",
      "action:  6 8 \n",
      "score:  -1 0 \n",
      "\n",
      "Evaluate 7/10action:  0 1 2 3 4 5 6 7 8 \n",
      "score:   0 0 0 0 0 0 0 0 0 \n",
      "\n",
      "action:  1 2 3 5 6 7 8 \n",
      "score:   0 0 0 0 0 0 0 \n",
      "\n",
      "action:  3 5 6 7 8 \n",
      "score:  -1-1 0 0 0 \n",
      "\n",
      "action:  5 7 8 \n",
      "score:   0-1-1 \n",
      "\n",
      "action:  7 \n",
      "score:   0 \n",
      "\n",
      "Evaluate 8/10action:  1 2 3 4 5 6 7 8 \n",
      "score:  -1-1-1 0 0 0 0 0 \n",
      "\n",
      "action:  1 3 5 6 7 8 \n",
      "score:   0-1-1-1-1-1 \n",
      "\n",
      "action:  3 5 6 8 \n",
      "score:   0 0 0 0 \n",
      "\n",
      "action:  6 8 \n",
      "score:  -1 0 \n",
      "\n",
      "Evaluate 9/10action:  0 1 2 3 4 5 6 7 8 \n",
      "score:   0 0 0 0 0 0 0 0 0 \n",
      "\n",
      "action:  1 2 3 5 6 7 8 \n",
      "score:   0 0 0 0 0 0 0 \n",
      "\n",
      "action:  3 5 6 7 8 \n",
      "score:  -1-1 0 0 0 \n",
      "\n",
      "action:  5 7 8 \n",
      "score:   0-1-1 \n",
      "\n",
      "action:  7 \n",
      "score:   0 \n",
      "\n",
      "Evaluate 10/10\n",
      "VS_AlphaBeta 0.5\n"
     ]
    }
   ],
   "source": [
    "if __name__ == '__main__':\r\n",
    "  evaluate_best_player()"
   ]
  }
 ],
 "metadata": {
  "colab": {
   "authorship_tag": "ABX9TyPFD9QFMfJ9yuinYwBghurW",
   "collapsed_sections": [],
   "name": "evaluate_best_player.ipynb",
   "provenance": []
  },
  "kernelspec": {
   "display_name": "Python 3",
   "name": "python3"
  }
 },
 "nbformat": 4,
 "nbformat_minor": 0
}
