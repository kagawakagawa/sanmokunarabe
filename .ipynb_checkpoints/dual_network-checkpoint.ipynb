{
 "cells": [
  {
   "cell_type": "code",
   "execution_count": null,
   "metadata": {
    "id": "VH6qObmyE113"
   },
   "outputs": [],
   "source": [
    "\r\n",
    "from tensorflow.keras.layers import Activation,Add,BatchNormalization,Conv2D,Dense,GlobalAveragePooling2D,Input\r\n",
    "from tensorflow.keras.models import Model\r\n",
    "from tensorflow.keras.regularizers import l2\r\n",
    "from tensorflow.keras import backend as K\r\n",
    "import os"
   ]
  },
  {
   "cell_type": "code",
   "execution_count": null,
   "metadata": {
    "id": "dj0UuVQWMiHi"
   },
   "outputs": [],
   "source": [
    "DN_FILTERS = 128 # 畳み込み層のカーネル数（本家は256）\r\n",
    "DN_RESIDUAL_NUM = 16 # 残差ブロックの数（本家は19）\r\n",
    "DN_INPUT_SHAPE = (3,3,2) # 入力シェイプ\r\n",
    "DN_OUTPUT_SIZE = 9 # 行動数（配置先(3*3))"
   ]
  },
  {
   "cell_type": "code",
   "execution_count": null,
   "metadata": {
    "id": "LQhaeUpkO6V6"
   },
   "outputs": [],
   "source": [
    "def conv(filters):\r\n",
    "  return Conv2D(filters,3,padding='same',use_bias=False,kernel_initializer='he_normal',kernel_regularizer=l2(0.0005))"
   ]
  },
  {
   "cell_type": "code",
   "execution_count": null,
   "metadata": {
    "id": "ARjrBxnJPayw"
   },
   "outputs": [],
   "source": [
    "# 残差ブロックの作成\r\n",
    "def residual_block():\r\n",
    "  def f(x):\r\n",
    "    sc = x\r\n",
    "    x = conv(DN_FILTERS)(x)\r\n",
    "    x = BatchNormalization()(x)\r\n",
    "    x = Activation('relu')(x)\r\n",
    "    x = conv(DN_FILTERS)(x)\r\n",
    "    x = BatchNormalization()(x)\r\n",
    "    x = Add()([x,sc])\r\n",
    "    x = Activation('relu')(x)\r\n",
    "    return x\r\n",
    "  return f"
   ]
  },
  {
   "cell_type": "code",
   "execution_count": null,
   "metadata": {
    "id": "wQ1I6_GFUce5"
   },
   "outputs": [],
   "source": [
    "# デュアルネットワークの作成\r\n",
    "def dual_network():\r\n",
    "  if os.path.exists('./model/best.h5'):\r\n",
    "    return\r\n",
    "\r\n",
    "  # 入力層\r\n",
    "  input = Input(shape=DN_INPUT_SHAPE)\r\n",
    "\r\n",
    "  # 畳み込み層\r\n",
    "  x = conv(DN_FILTERS)(input)\r\n",
    "  x = BatchNormalization()(x)\r\n",
    "  x = Activation('relu')(x)\r\n",
    "\r\n",
    "  # 残差ブロック×16\r\n",
    "  for i in range(DN_RESIDUAL_NUM):\r\n",
    "    x = residual_block()(x)\r\n",
    "  \r\n",
    "  #　プーリング層\r\n",
    "  x = GlobalAveragePooling2D()(x)\r\n",
    "\r\n",
    "  # ポリシー出力\r\n",
    "  p = Dense(DN_OUTPUT_SIZE,kernel_regularizer=l2(0.0005),activation='softmax',name='pi')(x)\r\n",
    "\r\n",
    "  # バリュー出力\r\n",
    "  v = Dense(1,kernel_regularizer=l2(0.0005))(x)\r\n",
    "  v = Activation('tanh',name='v')(v)\r\n",
    "\r\n",
    "  # モデルの作成\r\n",
    "  model = Model(inputs=input, outputs=[p,v])\r\n",
    "\r\n",
    "  # モデルの保存\r\n",
    "  os.makedirs('./model/',exist_ok=True) # フォルダがない時は生成\r\n",
    "  model.save('./model/best.h5') # ベストプレイヤーのモデル\r\n",
    "\r\n",
    "  # モデルの破棄\r\n",
    "  K.clear_session()\r\n",
    "  del model"
   ]
  },
  {
   "cell_type": "code",
   "execution_count": null,
   "metadata": {
    "id": "ipeKEKr6YSsZ"
   },
   "outputs": [],
   "source": [
    "# 動作確認\r\n",
    "if __name__ == '__main__':\r\n",
    "  dual_network()"
   ]
  }
 ],
 "metadata": {
  "accelerator": "GPU",
  "colab": {
   "authorship_tag": "ABX9TyNv3+scMFPtsfGgiMurnweW",
   "collapsed_sections": [],
   "name": "dual_network.ipynb",
   "provenance": []
  },
  "kernelspec": {
   "display_name": "Python 3",
   "name": "python3"
  }
 },
 "nbformat": 4,
 "nbformat_minor": 0
}
