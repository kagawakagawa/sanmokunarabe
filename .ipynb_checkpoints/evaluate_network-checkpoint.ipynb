{
 "cells": [
  {
   "cell_type": "code",
   "execution_count": 1,
   "metadata": {
    "colab": {
     "base_uri": "https://localhost:8080/",
     "height": 372
    },
    "executionInfo": {
     "elapsed": 8,
     "status": "error",
     "timestamp": 1626956563390,
     "user": {
      "displayName": "天パ",
      "photoUrl": "https://lh3.googleusercontent.com/a-/AOh14GgcJ5QhEN1QkiiHNRKp9yZUn-Oekyjo7_nsFxvaeg=s64",
      "userId": "16910291732707859644"
     },
     "user_tz": -540
    },
    "id": "qT6foFgTpsd5",
    "outputId": "53ff584a-ca14-4ca0-f9cb-d22119d7867f"
   },
   "outputs": [
    {
     "ename": "ModuleNotFoundError",
     "evalue": "ignored",
     "output_type": "error",
     "traceback": [
      "\u001b[0;31m---------------------------------------------------------------------------\u001b[0m",
      "\u001b[0;31mModuleNotFoundError\u001b[0m                       Traceback (most recent call last)",
      "\u001b[0;32m<ipython-input-1-46562a0944f1>\u001b[0m in \u001b[0;36m<module>\u001b[0;34m()\u001b[0m\n\u001b[0;32m----> 1\u001b[0;31m \u001b[0;32mfrom\u001b[0m \u001b[0mgame\u001b[0m \u001b[0;32mimport\u001b[0m \u001b[0mState\u001b[0m\u001b[0;34m\u001b[0m\u001b[0;34m\u001b[0m\u001b[0m\n\u001b[0m\u001b[1;32m      2\u001b[0m \u001b[0;32mfrom\u001b[0m \u001b[0mpv_mcts\u001b[0m \u001b[0;32mimport\u001b[0m \u001b[0mpv_mcts_action\u001b[0m\u001b[0;34m\u001b[0m\u001b[0;34m\u001b[0m\u001b[0m\n\u001b[1;32m      3\u001b[0m \u001b[0;32mfrom\u001b[0m \u001b[0mtensorflow\u001b[0m\u001b[0;34m.\u001b[0m\u001b[0mkeras\u001b[0m\u001b[0;34m.\u001b[0m\u001b[0mmodels\u001b[0m \u001b[0;32mimport\u001b[0m \u001b[0mload_model\u001b[0m\u001b[0;34m\u001b[0m\u001b[0;34m\u001b[0m\u001b[0m\n\u001b[1;32m      4\u001b[0m \u001b[0;32mfrom\u001b[0m \u001b[0mtensorflow\u001b[0m\u001b[0;34m.\u001b[0m\u001b[0mkeras\u001b[0m \u001b[0;32mimport\u001b[0m \u001b[0mbackend\u001b[0m \u001b[0;32mas\u001b[0m \u001b[0mK\u001b[0m\u001b[0;34m\u001b[0m\u001b[0;34m\u001b[0m\u001b[0m\n\u001b[1;32m      5\u001b[0m \u001b[0;32mfrom\u001b[0m \u001b[0mpathlib\u001b[0m \u001b[0;32mimport\u001b[0m \u001b[0mPath\u001b[0m\u001b[0;34m\u001b[0m\u001b[0;34m\u001b[0m\u001b[0m\n",
      "\u001b[0;31mModuleNotFoundError\u001b[0m: No module named 'game'",
      "",
      "\u001b[0;31m---------------------------------------------------------------------------\u001b[0;32m\nNOTE: If your import is failing due to a missing package, you can\nmanually install dependencies using either !pip or !apt.\n\nTo view examples of installing some common dependencies, click the\n\"Open Examples\" button below.\n\u001b[0;31m---------------------------------------------------------------------------\u001b[0m\n"
     ]
    }
   ],
   "source": [
    "from game import State\n",
    "from pv_mcts import pv_mcts_action\n",
    "from tensorflow.keras.models import load_model\n",
    "from tensorflow.keras import backend as K\n",
    "from pathlib import Path\n",
    "from shutil import copy\n",
    "import numpy as np "
   ]
  },
  {
   "cell_type": "code",
   "execution_count": null,
   "metadata": {
    "id": "U-1aFwJBpsbZ"
   },
   "outputs": [],
   "source": [
    "EN_GAME_COUNT = 10\n",
    "EN_TEMPERATURE = 1.0"
   ]
  },
  {
   "cell_type": "code",
   "execution_count": null,
   "metadata": {
    "id": "-Ar5i68bpsYp"
   },
   "outputs": [],
   "source": [
    "def first_player_point(ended_state):\n",
    "  if ended_state.is_lose():\n",
    "    return 0 if ended_state.is_first_player() else 1\n",
    "  return 0.5"
   ]
  },
  {
   "cell_type": "code",
   "execution_count": null,
   "metadata": {
    "id": "A1r81pZdpsV6"
   },
   "outputs": [],
   "source": [
    "def play(next_actions):\n",
    "  state = State()\n",
    "\n",
    "  while True:\n",
    "  # ゲーム終了時\n",
    "    if state.is_done():\n",
    "      break\n",
    "  \n",
    "  # 行動の取得\n",
    "    next_action = next_actions[0] if state.is_first_player() else next_actions[1]\n",
    "    action = next_action(state)\n",
    "  \n",
    "  # 次の状態の取得\n",
    "    state = state.next(action)\n",
    "\n",
    "  return first_player_point(state)\n"
   ]
  },
  {
   "cell_type": "code",
   "execution_count": null,
   "metadata": {
    "id": "GWwlTGELpsOJ"
   },
   "outputs": [],
   "source": [
    "def update_best_player():\n",
    "  copy('./model/latest.h5','./model/best.h5')\n",
    "  print('Change BestPlayer')"
   ]
  },
  {
   "cell_type": "code",
   "execution_count": null,
   "metadata": {
    "id": "JPOT8lZJsxNp"
   },
   "outputs": [],
   "source": [
    "def evaluate_network():\n",
    "  model0 = load_model('./model/latest.h5')\n",
    "\n",
    "  model1 = load_model('./model/best.h5')\n",
    "\n",
    "  next_action0 = pv_mcts_action(model0,EN_TEMPERATURE)\n",
    "  next_action1 = pv_mcts_action(model1,EN_TEMPERATURE)\n",
    "  next_actions = (next_action0,next_action1)\n",
    "\n",
    "  total_point = 0\n",
    "  for i in range(EN_GAME_COUNT):\n",
    "    if i%2 == 0:\n",
    "      total_point += play(next_actions)\n",
    "\n",
    "    else:\n",
    "      total_point += 1-play(list(reversed(next_actions)))\n",
    "\n",
    "    print('\\rEvaluate {}/{}'.format(i+1,EN_GAME_COUNT),end='')\n",
    "  print('')\n",
    "\n",
    "  average_point = total_point / EN_GAME_COUNT\n",
    "  print('AveragePoint',average_point)\n",
    "\n",
    "  K.clear_session()\n",
    "  del model0\n",
    "  del model1\n",
    "\n",
    "  if average_point > 0.5:\n",
    "    update_best_player()\n",
    "    return True\n",
    "  else:\n",
    "    return False\n"
   ]
  }
 ],
 "metadata": {
  "colab": {
   "authorship_tag": "ABX9TyNOiIt+6ocSuKBywNtkCrEz",
   "collapsed_sections": [],
   "name": "evaluate_network.ipynb",
   "provenance": []
  },
  "kernelspec": {
   "display_name": "Python 3",
   "name": "python3"
  }
 },
 "nbformat": 4,
 "nbformat_minor": 0
}
